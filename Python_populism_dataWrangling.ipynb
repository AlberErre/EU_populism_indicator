{
 "cells": [
  {
   "cell_type": "markdown",
   "metadata": {},
   "source": [
    "# Data analysis and wrangling: Populism indicators (Alber_Erre)"
   ]
  },
  {
   "cell_type": "markdown",
   "metadata": {},
   "source": [
    "# Steps taken:\n",
    "### 1) upload data into a .csv\n",
    "### 2) delete some columns to focus on political party distributions\n",
    "### 3) Play with the data to look for patterns (plotting, grouping)\n",
    "### 4) Create distance matrix\n",
    "### 5) hierarquical clustering\n",
    "### 6) plot clustering"
   ]
  },
  {
   "cell_type": "code",
   "execution_count": 5,
   "metadata": {
    "collapsed": false,
    "scrolled": true
   },
   "outputs": [
    {
     "data": {
      "text/plain": [
       "2556"
      ]
     },
     "execution_count": 5,
     "metadata": {},
     "output_type": "execute_result"
    }
   ],
   "source": [
    "# The following is essential to get your matplotlib plots inline, so do not miss this one if you have graphics.\n",
    "\n",
    "%matplotlib inline\n",
    "\n",
    "# Some usual imports here\n",
    "import csv as csv \n",
    "import numpy as np\n",
    "import pandas as pd\n",
    "\n",
    "raw_data_pol = pd.read_csv('politics_eu_clean_final.csv')\n",
    "raw_data_pol.head()\n",
    "\n",
    "len(raw_data_pol)"
   ]
  },
  {
   "cell_type": "code",
   "execution_count": 6,
   "metadata": {
    "collapsed": false
   },
   "outputs": [
    {
     "data": {
      "text/html": [
       "<div>\n",
       "<table border=\"1\" class=\"dataframe\">\n",
       "  <thead>\n",
       "    <tr style=\"text-align: right;\">\n",
       "      <th></th>\n",
       "      <th>country</th>\n",
       "      <th>wing</th>\n",
       "      <th>populism</th>\n",
       "      <th>year</th>\n",
       "      <th>party</th>\n",
       "      <th>number_votes</th>\n",
       "      <th>number_senators</th>\n",
       "      <th>total_senator</th>\n",
       "      <th>new_party</th>\n",
       "      <th>senator_distribution</th>\n",
       "    </tr>\n",
       "  </thead>\n",
       "  <tbody>\n",
       "    <tr>\n",
       "      <th>13</th>\n",
       "      <td>Austria</td>\n",
       "      <td>left</td>\n",
       "      <td>0</td>\n",
       "      <td>1990</td>\n",
       "      <td>Social_Democratic_Party_of_Austria</td>\n",
       "      <td>42.8</td>\n",
       "      <td>80</td>\n",
       "      <td>183</td>\n",
       "      <td>0</td>\n",
       "      <td>0.44</td>\n",
       "    </tr>\n",
       "    <tr>\n",
       "      <th>14</th>\n",
       "      <td>Austria</td>\n",
       "      <td>left</td>\n",
       "      <td>0</td>\n",
       "      <td>1994</td>\n",
       "      <td>Social_Democratic_Party_of_Austria</td>\n",
       "      <td>34.9</td>\n",
       "      <td>65</td>\n",
       "      <td>183</td>\n",
       "      <td>0</td>\n",
       "      <td>0.36</td>\n",
       "    </tr>\n",
       "    <tr>\n",
       "      <th>15</th>\n",
       "      <td>Austria</td>\n",
       "      <td>left</td>\n",
       "      <td>0</td>\n",
       "      <td>1995</td>\n",
       "      <td>Social_Democratic_Party_of_Austria</td>\n",
       "      <td>38.1</td>\n",
       "      <td>71</td>\n",
       "      <td>183</td>\n",
       "      <td>0</td>\n",
       "      <td>0.39</td>\n",
       "    </tr>\n",
       "    <tr>\n",
       "      <th>16</th>\n",
       "      <td>Austria</td>\n",
       "      <td>left</td>\n",
       "      <td>0</td>\n",
       "      <td>1999</td>\n",
       "      <td>Social_Democratic_Party_of_Austria</td>\n",
       "      <td>33.2</td>\n",
       "      <td>65</td>\n",
       "      <td>183</td>\n",
       "      <td>0</td>\n",
       "      <td>0.36</td>\n",
       "    </tr>\n",
       "    <tr>\n",
       "      <th>17</th>\n",
       "      <td>Austria</td>\n",
       "      <td>left</td>\n",
       "      <td>0</td>\n",
       "      <td>2002</td>\n",
       "      <td>Social_Democratic_Party_of_Austria</td>\n",
       "      <td>36.5</td>\n",
       "      <td>69</td>\n",
       "      <td>183</td>\n",
       "      <td>0</td>\n",
       "      <td>0.38</td>\n",
       "    </tr>\n",
       "  </tbody>\n",
       "</table>\n",
       "</div>"
      ],
      "text/plain": [
       "    country  wing  populism  year                               party  \\\n",
       "13  Austria  left         0  1990  Social_Democratic_Party_of_Austria   \n",
       "14  Austria  left         0  1994  Social_Democratic_Party_of_Austria   \n",
       "15  Austria  left         0  1995  Social_Democratic_Party_of_Austria   \n",
       "16  Austria  left         0  1999  Social_Democratic_Party_of_Austria   \n",
       "17  Austria  left         0  2002  Social_Democratic_Party_of_Austria   \n",
       "\n",
       "   number_votes number_senators  total_senator  new_party  \\\n",
       "13         42.8              80            183          0   \n",
       "14         34.9              65            183          0   \n",
       "15         38.1              71            183          0   \n",
       "16         33.2              65            183          0   \n",
       "17         36.5              69            183          0   \n",
       "\n",
       "    senator_distribution  \n",
       "13                  0.44  \n",
       "14                  0.36  \n",
       "15                  0.39  \n",
       "16                  0.36  \n",
       "17                  0.38  "
      ]
     },
     "execution_count": 6,
     "metadata": {},
     "output_type": "execute_result"
    }
   ],
   "source": [
    "# Normalize data 1990-present\n",
    "\n",
    "data_pol = raw_data_pol[raw_data_pol.year >= 1990] \n",
    "\n",
    "data_pol.head()"
   ]
  },
  {
   "cell_type": "code",
   "execution_count": 7,
   "metadata": {
    "collapsed": false
   },
   "outputs": [],
   "source": [
    "# Let's set \"year\" as the index of the table\n",
    "# data_pol.set_index('year')"
   ]
  },
  {
   "cell_type": "code",
   "execution_count": 8,
   "metadata": {
    "collapsed": false
   },
   "outputs": [
    {
     "data": {
      "text/plain": [
       "country                  object\n",
       "wing                     object\n",
       "populism                  int64\n",
       "year                      int64\n",
       "party                    object\n",
       "number_votes             object\n",
       "number_senators          object\n",
       "total_senator             int64\n",
       "new_party                 int64\n",
       "senator_distribution    float64\n",
       "dtype: object"
      ]
     },
     "execution_count": 8,
     "metadata": {},
     "output_type": "execute_result"
    }
   ],
   "source": [
    "# Comentar en el report que tuvimos que cambiar el formato de varios parametros \n",
    "# durante el proceso de analysis (de string(object) and numerico (float/int) \n",
    "\n",
    "data_pol.dtypes"
   ]
  },
  {
   "cell_type": "markdown",
   "metadata": {},
   "source": [
    "# Basic statistics of the data and its distribution (very interesting for the report)"
   ]
  },
  {
   "cell_type": "markdown",
   "metadata": {},
   "source": [
    "### Percentage of populism parties, new parties, and wing for ALL the dataset \n",
    "(based in election years, not countries as a whole)\n"
   ]
  },
  {
   "cell_type": "code",
   "execution_count": 9,
   "metadata": {
    "collapsed": false
   },
   "outputs": [
    {
     "data": {
      "text/plain": [
       "0    0.68448\n",
       "1    0.31552\n",
       "Name: populism, dtype: float64"
      ]
     },
     "execution_count": 9,
     "metadata": {},
     "output_type": "execute_result"
    }
   ],
   "source": [
    "# Distribucion del valor populista (porcentajes)\n",
    "data_pol.populism.value_counts(normalize = True)"
   ]
  },
  {
   "cell_type": "code",
   "execution_count": 10,
   "metadata": {
    "collapsed": false
   },
   "outputs": [
    {
     "data": {
      "text/plain": [
       "0    0.676521\n",
       "1    0.323479\n",
       "Name: new_party, dtype: float64"
      ]
     },
     "execution_count": 10,
     "metadata": {},
     "output_type": "execute_result"
    }
   ],
   "source": [
    "# Distribucion del valor new party (percentages)\n",
    "data_pol.new_party.value_counts(normalize = True)\n"
   ]
  },
  {
   "cell_type": "code",
   "execution_count": 11,
   "metadata": {
    "collapsed": false
   },
   "outputs": [
    {
     "data": {
      "text/plain": [
       "231"
      ]
     },
     "execution_count": 11,
     "metadata": {},
     "output_type": "execute_result"
    }
   ],
   "source": [
    "## Como saber cuantos partidos políticos hay en toda europa, contar unicos valores en la serie\n",
    "# para ver una lista de todos estos valores usar, data_pol.party.unique()\n",
    "# para ver el numero de valores unicos (partidos), usar lo siguiente:\n",
    "\n",
    "data_pol.party.nunique() # igual que el otro pero con una n\n",
    "\n",
    "# hay 232 partidos diferentes en la UE\n"
   ]
  },
  {
   "cell_type": "code",
   "execution_count": 12,
   "metadata": {
    "collapsed": false
   },
   "outputs": [
    {
     "data": {
      "image/png": "[encoded data removed]",
      "text/plain": [
       "<matplotlib.figure.Figure at 0x112c39d30>"
      ]
     },
     "metadata": {},
     "output_type": "display_data"
    }
   ],
   "source": [
    "# Valores cruzados de los partidos politicos y su orientacion (derecha - izquierda)\n",
    "\n",
    "papasito = pd.crosstab(data_pol.wing, data_pol.populism)\n",
    "\n",
    "papasito.plot.barh(stacked = True, colormap='Greys');\n"
   ]
  },
  {
   "cell_type": "code",
   "execution_count": 13,
   "metadata": {
    "collapsed": false
   },
   "outputs": [
    {
     "data": {
      "text/html": [
       "<div>\n",
       "<table border=\"1\" class=\"dataframe\">\n",
       "  <thead>\n",
       "    <tr style=\"text-align: right;\">\n",
       "      <th>new_party</th>\n",
       "      <th>0</th>\n",
       "      <th>1</th>\n",
       "    </tr>\n",
       "    <tr>\n",
       "      <th>populism</th>\n",
       "      <th></th>\n",
       "      <th></th>\n",
       "    </tr>\n",
       "  </thead>\n",
       "  <tbody>\n",
       "    <tr>\n",
       "      <th>0</th>\n",
       "      <td>879</td>\n",
       "      <td>325</td>\n",
       "    </tr>\n",
       "    <tr>\n",
       "      <th>1</th>\n",
       "      <td>311</td>\n",
       "      <td>244</td>\n",
       "    </tr>\n",
       "  </tbody>\n",
       "</table>\n",
       "</div>"
      ],
      "text/plain": [
       "new_party    0    1\n",
       "populism           \n",
       "0          879  325\n",
       "1          311  244"
      ]
     },
     "execution_count": 13,
     "metadata": {},
     "output_type": "execute_result"
    }
   ],
   "source": [
    "# valores partidos populistas y partidos nuevos (SUPER INTEREZANTE)\n",
    "\n",
    "# En este sentido, los nuevos partidos no suelen ser populistas\n",
    "new_populism = pd.crosstab(data_pol.populism, data_pol.new_party)\n",
    "new_populism\n",
    "\n",
    "\n",
    "\n",
    "\n"
   ]
  },
  {
   "cell_type": "code",
   "execution_count": 14,
   "metadata": {
    "collapsed": false
   },
   "outputs": [
    {
     "data": {
      "text/plain": [
       "1759"
      ]
     },
     "execution_count": 14,
     "metadata": {},
     "output_type": "execute_result"
    }
   ],
   "source": [
    "1759                                "
   ]
  },
  {
   "cell_type": "code",
   "execution_count": 15,
   "metadata": {
    "collapsed": false,
    "scrolled": false
   },
   "outputs": [
    {
     "data": {
      "text/plain": [
       "<matplotlib.axes._subplots.AxesSubplot at 0x112f52048>"
      ]
     },
     "execution_count": 15,
     "metadata": {},
     "output_type": "execute_result"
    },
    {
     "data": {
      "image/png": "[encoded data removed]",
      "text/plain": [
       "<matplotlib.figure.Figure at 0x112ce77f0>"
      ]
     },
     "metadata": {},
     "output_type": "display_data"
    }
   ],
   "source": [
    "country_populism = pd.crosstab(data_pol.country, data_pol.populism)\n",
    "\n",
    "country_populism.plot.box(title='Populism Distribution per country')\n",
    "\n",
    "# Aqui se puede ver que el numero de paises populistas es menor\n",
    "# La distribución de los paises populistas NO es simetrica (la raya roja no esta en el centro del rectangulo), en los no populisas, si.\n",
    "# \n",
    "\n",
    "# Buscar como poner esta gráfica en orden para ver cuales son los paises con mayor numero de partidos populistas\n",
    "\n",
    "\n",
    "\n"
   ]
  },
  {
   "cell_type": "code",
   "execution_count": 16,
   "metadata": {
    "collapsed": false
   },
   "outputs": [
    {
     "data": {
      "text/plain": [
       "<matplotlib.axes._subplots.AxesSubplot at 0x112fce7f0>"
      ]
     },
     "execution_count": 16,
     "metadata": {},
     "output_type": "execute_result"
    },
    {
     "data": {
      "image/png": "[encoded data removed]",
      "text/plain": [
       "<matplotlib.figure.Figure at 0x1153ba4e0>"
      ]
     },
     "metadata": {},
     "output_type": "display_data"
    }
   ],
   "source": [
    "country_new_party = pd.crosstab(data_pol.country, data_pol.new_party)\n",
    "\n",
    "country_new_party.plot(kind = 'box')"
   ]
  },
  {
   "cell_type": "code",
   "execution_count": 17,
   "metadata": {
    "collapsed": false
   },
   "outputs": [
    {
     "data": {
      "text/plain": [
       "0.31552018192154635"
      ]
     },
     "execution_count": 17,
     "metadata": {},
     "output_type": "execute_result"
    }
   ],
   "source": [
    "# Basic indicator, mean, this show us that the 30% of all elections year since 1990\n",
    "data_pol.populism.mean()\n"
   ]
  },
  {
   "cell_type": "markdown",
   "metadata": {},
   "source": [
    "# Filtros multiples, si señor, se puede!! (and / or)\n"
   ]
  },
  {
   "cell_type": "markdown",
   "metadata": {},
   "source": [
    "# Inestability_Filter = Partidos populistas > 25% camara\n"
   ]
  },
  {
   "cell_type": "code",
   "execution_count": 18,
   "metadata": {
    "collapsed": false
   },
   "outputs": [
    {
     "data": {
      "text/html": [
       "<div>\n",
       "<table border=\"1\" class=\"dataframe\">\n",
       "  <thead>\n",
       "    <tr style=\"text-align: right;\">\n",
       "      <th></th>\n",
       "      <th>country</th>\n",
       "      <th>wing</th>\n",
       "      <th>populism</th>\n",
       "      <th>year</th>\n",
       "      <th>party</th>\n",
       "      <th>number_votes</th>\n",
       "      <th>number_senators</th>\n",
       "      <th>total_senator</th>\n",
       "      <th>new_party</th>\n",
       "      <th>senator_distribution</th>\n",
       "    </tr>\n",
       "  </thead>\n",
       "  <tbody>\n",
       "    <tr>\n",
       "      <th>58</th>\n",
       "      <td>Austria</td>\n",
       "      <td>far_right</td>\n",
       "      <td>1</td>\n",
       "      <td>1999</td>\n",
       "      <td>Freedom_Party_of_Austria</td>\n",
       "      <td>26.9</td>\n",
       "      <td>52</td>\n",
       "      <td>183</td>\n",
       "      <td>0</td>\n",
       "      <td>0.28</td>\n",
       "    </tr>\n",
       "    <tr>\n",
       "      <th>594</th>\n",
       "      <td>Czech_Republic</td>\n",
       "      <td>right</td>\n",
       "      <td>1</td>\n",
       "      <td>1992</td>\n",
       "      <td>Civic_Democratic_Party</td>\n",
       "      <td>29.7</td>\n",
       "      <td>76</td>\n",
       "      <td>200</td>\n",
       "      <td>0</td>\n",
       "      <td>0.38</td>\n",
       "    </tr>\n",
       "    <tr>\n",
       "      <th>595</th>\n",
       "      <td>Czech_Republic</td>\n",
       "      <td>right</td>\n",
       "      <td>1</td>\n",
       "      <td>1996</td>\n",
       "      <td>Civic_Democratic_Party</td>\n",
       "      <td>29.6</td>\n",
       "      <td>68</td>\n",
       "      <td>200</td>\n",
       "      <td>0</td>\n",
       "      <td>0.34</td>\n",
       "    </tr>\n",
       "    <tr>\n",
       "      <th>596</th>\n",
       "      <td>Czech_Republic</td>\n",
       "      <td>right</td>\n",
       "      <td>1</td>\n",
       "      <td>1998</td>\n",
       "      <td>Civic_Democratic_Party</td>\n",
       "      <td>27.7</td>\n",
       "      <td>63</td>\n",
       "      <td>200</td>\n",
       "      <td>0</td>\n",
       "      <td>0.32</td>\n",
       "    </tr>\n",
       "    <tr>\n",
       "      <th>597</th>\n",
       "      <td>Czech_Republic</td>\n",
       "      <td>right</td>\n",
       "      <td>1</td>\n",
       "      <td>2002</td>\n",
       "      <td>Civic_Democratic_Party</td>\n",
       "      <td>24.5</td>\n",
       "      <td>58</td>\n",
       "      <td>200</td>\n",
       "      <td>0</td>\n",
       "      <td>0.29</td>\n",
       "    </tr>\n",
       "    <tr>\n",
       "      <th>598</th>\n",
       "      <td>Czech_Republic</td>\n",
       "      <td>right</td>\n",
       "      <td>1</td>\n",
       "      <td>2006</td>\n",
       "      <td>Civic_Democratic_Party</td>\n",
       "      <td>35.4</td>\n",
       "      <td>81</td>\n",
       "      <td>200</td>\n",
       "      <td>0</td>\n",
       "      <td>0.41</td>\n",
       "    </tr>\n",
       "    <tr>\n",
       "      <th>599</th>\n",
       "      <td>Czech_Republic</td>\n",
       "      <td>right</td>\n",
       "      <td>1</td>\n",
       "      <td>2010</td>\n",
       "      <td>Civic_Democratic_Party</td>\n",
       "      <td>20.2</td>\n",
       "      <td>53</td>\n",
       "      <td>200</td>\n",
       "      <td>0</td>\n",
       "      <td>0.27</td>\n",
       "    </tr>\n",
       "    <tr>\n",
       "      <th>1271</th>\n",
       "      <td>Greece</td>\n",
       "      <td>far_left</td>\n",
       "      <td>1</td>\n",
       "      <td>2015</td>\n",
       "      <td>Coalition_of_the_Radical_Left_(SYRIZA)</td>\n",
       "      <td>36.3</td>\n",
       "      <td>149</td>\n",
       "      <td>300</td>\n",
       "      <td>0</td>\n",
       "      <td>0.50</td>\n",
       "    </tr>\n",
       "    <tr>\n",
       "      <th>1438</th>\n",
       "      <td>Ireland</td>\n",
       "      <td>right</td>\n",
       "      <td>1</td>\n",
       "      <td>1992</td>\n",
       "      <td>Soldiers_of_Destiny</td>\n",
       "      <td>39.1</td>\n",
       "      <td>68</td>\n",
       "      <td>166</td>\n",
       "      <td>0</td>\n",
       "      <td>0.41</td>\n",
       "    </tr>\n",
       "    <tr>\n",
       "      <th>1439</th>\n",
       "      <td>Ireland</td>\n",
       "      <td>right</td>\n",
       "      <td>1</td>\n",
       "      <td>1997</td>\n",
       "      <td>Soldiers_of_Destiny</td>\n",
       "      <td>39.3</td>\n",
       "      <td>77</td>\n",
       "      <td>166</td>\n",
       "      <td>0</td>\n",
       "      <td>0.46</td>\n",
       "    </tr>\n",
       "    <tr>\n",
       "      <th>1440</th>\n",
       "      <td>Ireland</td>\n",
       "      <td>right</td>\n",
       "      <td>1</td>\n",
       "      <td>2002</td>\n",
       "      <td>Soldiers_of_Destiny</td>\n",
       "      <td>41.5</td>\n",
       "      <td>82</td>\n",
       "      <td>166</td>\n",
       "      <td>0</td>\n",
       "      <td>0.49</td>\n",
       "    </tr>\n",
       "    <tr>\n",
       "      <th>1441</th>\n",
       "      <td>Ireland</td>\n",
       "      <td>right</td>\n",
       "      <td>1</td>\n",
       "      <td>2007</td>\n",
       "      <td>Soldiers_of_Destiny</td>\n",
       "      <td>41.6</td>\n",
       "      <td>78</td>\n",
       "      <td>166</td>\n",
       "      <td>0</td>\n",
       "      <td>0.47</td>\n",
       "    </tr>\n",
       "    <tr>\n",
       "      <th>1443</th>\n",
       "      <td>Ireland</td>\n",
       "      <td>right</td>\n",
       "      <td>1</td>\n",
       "      <td>2016</td>\n",
       "      <td>Soldiers_of_Destiny</td>\n",
       "      <td>24.3</td>\n",
       "      <td>44</td>\n",
       "      <td>166</td>\n",
       "      <td>0</td>\n",
       "      <td>0.27</td>\n",
       "    </tr>\n",
       "    <tr>\n",
       "      <th>1571</th>\n",
       "      <td>Italy</td>\n",
       "      <td>right</td>\n",
       "      <td>1</td>\n",
       "      <td>2001</td>\n",
       "      <td>Forza_Italia</td>\n",
       "      <td>29.4</td>\n",
       "      <td>193</td>\n",
       "      <td>630</td>\n",
       "      <td>0</td>\n",
       "      <td>0.31</td>\n",
       "    </tr>\n",
       "    <tr>\n",
       "      <th>1573</th>\n",
       "      <td>Italy</td>\n",
       "      <td>right</td>\n",
       "      <td>1</td>\n",
       "      <td>2008</td>\n",
       "      <td>Forza_Italia</td>\n",
       "      <td>37.4</td>\n",
       "      <td>276</td>\n",
       "      <td>630</td>\n",
       "      <td>0</td>\n",
       "      <td>0.44</td>\n",
       "    </tr>\n",
       "    <tr>\n",
       "      <th>1717</th>\n",
       "      <td>Lithuania</td>\n",
       "      <td>centre</td>\n",
       "      <td>1</td>\n",
       "      <td>2004</td>\n",
       "      <td>Labour_Party</td>\n",
       "      <td>28.4</td>\n",
       "      <td>39</td>\n",
       "      <td>141</td>\n",
       "      <td>1</td>\n",
       "      <td>0.28</td>\n",
       "    </tr>\n",
       "    <tr>\n",
       "      <th>1842</th>\n",
       "      <td>Poland</td>\n",
       "      <td>far_right</td>\n",
       "      <td>1</td>\n",
       "      <td>2005</td>\n",
       "      <td>Law_and_Justice</td>\n",
       "      <td>27</td>\n",
       "      <td>155</td>\n",
       "      <td>460</td>\n",
       "      <td>0</td>\n",
       "      <td>0.34</td>\n",
       "    </tr>\n",
       "    <tr>\n",
       "      <th>1843</th>\n",
       "      <td>Poland</td>\n",
       "      <td>far_right</td>\n",
       "      <td>1</td>\n",
       "      <td>2007</td>\n",
       "      <td>Law_and_Justice</td>\n",
       "      <td>32.1</td>\n",
       "      <td>166</td>\n",
       "      <td>460</td>\n",
       "      <td>0</td>\n",
       "      <td>0.36</td>\n",
       "    </tr>\n",
       "    <tr>\n",
       "      <th>1844</th>\n",
       "      <td>Poland</td>\n",
       "      <td>far_right</td>\n",
       "      <td>1</td>\n",
       "      <td>2011</td>\n",
       "      <td>Law_and_Justice</td>\n",
       "      <td>29.9</td>\n",
       "      <td>157</td>\n",
       "      <td>460</td>\n",
       "      <td>0</td>\n",
       "      <td>0.34</td>\n",
       "    </tr>\n",
       "    <tr>\n",
       "      <th>1845</th>\n",
       "      <td>Poland</td>\n",
       "      <td>far_right</td>\n",
       "      <td>1</td>\n",
       "      <td>2015</td>\n",
       "      <td>Law_and_Justice</td>\n",
       "      <td>37.6</td>\n",
       "      <td>235</td>\n",
       "      <td>460</td>\n",
       "      <td>0</td>\n",
       "      <td>0.51</td>\n",
       "    </tr>\n",
       "    <tr>\n",
       "      <th>2335</th>\n",
       "      <td>Switzerland</td>\n",
       "      <td>far_right</td>\n",
       "      <td>1</td>\n",
       "      <td>2003</td>\n",
       "      <td>Swiss_Peoples_Party</td>\n",
       "      <td>26.6</td>\n",
       "      <td>55</td>\n",
       "      <td>200</td>\n",
       "      <td>0</td>\n",
       "      <td>0.28</td>\n",
       "    </tr>\n",
       "    <tr>\n",
       "      <th>2336</th>\n",
       "      <td>Switzerland</td>\n",
       "      <td>far_right</td>\n",
       "      <td>1</td>\n",
       "      <td>2007</td>\n",
       "      <td>Swiss_Peoples_Party</td>\n",
       "      <td>29</td>\n",
       "      <td>62</td>\n",
       "      <td>200</td>\n",
       "      <td>0</td>\n",
       "      <td>0.31</td>\n",
       "    </tr>\n",
       "    <tr>\n",
       "      <th>2337</th>\n",
       "      <td>Switzerland</td>\n",
       "      <td>far_right</td>\n",
       "      <td>1</td>\n",
       "      <td>2011</td>\n",
       "      <td>Swiss_Peoples_Party</td>\n",
       "      <td>26.6</td>\n",
       "      <td>54</td>\n",
       "      <td>200</td>\n",
       "      <td>0</td>\n",
       "      <td>0.27</td>\n",
       "    </tr>\n",
       "    <tr>\n",
       "      <th>2338</th>\n",
       "      <td>Switzerland</td>\n",
       "      <td>far_right</td>\n",
       "      <td>1</td>\n",
       "      <td>2015</td>\n",
       "      <td>Swiss_Peoples_Party</td>\n",
       "      <td>29</td>\n",
       "      <td>65</td>\n",
       "      <td>200</td>\n",
       "      <td>0</td>\n",
       "      <td>0.33</td>\n",
       "    </tr>\n",
       "  </tbody>\n",
       "</table>\n",
       "</div>"
      ],
      "text/plain": [
       "             country       wing  populism  year  \\\n",
       "58           Austria  far_right         1  1999   \n",
       "594   Czech_Republic      right         1  1992   \n",
       "595   Czech_Republic      right         1  1996   \n",
       "596   Czech_Republic      right         1  1998   \n",
       "597   Czech_Republic      right         1  2002   \n",
       "598   Czech_Republic      right         1  2006   \n",
       "599   Czech_Republic      right         1  2010   \n",
       "1271          Greece   far_left         1  2015   \n",
       "1438         Ireland      right         1  1992   \n",
       "1439         Ireland      right         1  1997   \n",
       "1440         Ireland      right         1  2002   \n",
       "1441         Ireland      right         1  2007   \n",
       "1443         Ireland      right         1  2016   \n",
       "1571           Italy      right         1  2001   \n",
       "1573           Italy      right         1  2008   \n",
       "1717       Lithuania     centre         1  2004   \n",
       "1842          Poland  far_right         1  2005   \n",
       "1843          Poland  far_right         1  2007   \n",
       "1844          Poland  far_right         1  2011   \n",
       "1845          Poland  far_right         1  2015   \n",
       "2335     Switzerland  far_right         1  2003   \n",
       "2336     Switzerland  far_right         1  2007   \n",
       "2337     Switzerland  far_right         1  2011   \n",
       "2338     Switzerland  far_right         1  2015   \n",
       "\n",
       "                                       party number_votes number_senators  \\\n",
       "58                  Freedom_Party_of_Austria         26.9              52   \n",
       "594                   Civic_Democratic_Party         29.7              76   \n",
       "595                   Civic_Democratic_Party         29.6              68   \n",
       "596                   Civic_Democratic_Party         27.7              63   \n",
       "597                   Civic_Democratic_Party         24.5              58   \n",
       "598                   Civic_Democratic_Party         35.4              81   \n",
       "599                   Civic_Democratic_Party         20.2              53   \n",
       "1271  Coalition_of_the_Radical_Left_(SYRIZA)         36.3             149   \n",
       "1438                     Soldiers_of_Destiny         39.1              68   \n",
       "1439                     Soldiers_of_Destiny         39.3              77   \n",
       "1440                     Soldiers_of_Destiny         41.5              82   \n",
       "1441                     Soldiers_of_Destiny         41.6              78   \n",
       "1443                     Soldiers_of_Destiny         24.3              44   \n",
       "1571                            Forza_Italia         29.4             193   \n",
       "1573                            Forza_Italia         37.4             276   \n",
       "1717                            Labour_Party         28.4              39   \n",
       "1842                         Law_and_Justice           27             155   \n",
       "1843                         Law_and_Justice         32.1             166   \n",
       "1844                         Law_and_Justice         29.9             157   \n",
       "1845                         Law_and_Justice         37.6             235   \n",
       "2335                     Swiss_Peoples_Party         26.6              55   \n",
       "2336                     Swiss_Peoples_Party           29              62   \n",
       "2337                     Swiss_Peoples_Party         26.6              54   \n",
       "2338                     Swiss_Peoples_Party           29              65   \n",
       "\n",
       "      total_senator  new_party  senator_distribution  \n",
       "58              183          0                  0.28  \n",
       "594             200          0                  0.38  \n",
       "595             200          0                  0.34  \n",
       "596             200          0                  0.32  \n",
       "597             200          0                  0.29  \n",
       "598             200          0                  0.41  \n",
       "599             200          0                  0.27  \n",
       "1271            300          0                  0.50  \n",
       "1438            166          0                  0.41  \n",
       "1439            166          0                  0.46  \n",
       "1440            166          0                  0.49  \n",
       "1441            166          0                  0.47  \n",
       "1443            166          0                  0.27  \n",
       "1571            630          0                  0.31  \n",
       "1573            630          0                  0.44  \n",
       "1717            141          1                  0.28  \n",
       "1842            460          0                  0.34  \n",
       "1843            460          0                  0.36  \n",
       "1844            460          0                  0.34  \n",
       "1845            460          0                  0.51  \n",
       "2335            200          0                  0.28  \n",
       "2336            200          0                  0.31  \n",
       "2337            200          0                  0.27  \n",
       "2338            200          0                  0.33  "
      ]
     },
     "execution_count": 18,
     "metadata": {},
     "output_type": "execute_result"
    }
   ],
   "source": [
    "Inestability_filter = data_pol[(data_pol.populism == 1) & (data_pol.senator_distribution >= 0.25)] \n",
    "Inestability_filter\n"
   ]
  },
  {
   "cell_type": "code",
   "execution_count": 19,
   "metadata": {
    "collapsed": false
   },
   "outputs": [
    {
     "data": {
      "text/plain": [
       "8"
      ]
     },
     "execution_count": 19,
     "metadata": {},
     "output_type": "execute_result"
    }
   ],
   "source": [
    "# inestability parties perception (%)\n",
    "number_inestability_parties = Inestability_filter.country.nunique() # igual que el otro pero con una n\n",
    "number_inestability_parties\n"
   ]
  },
  {
   "cell_type": "code",
   "execution_count": 20,
   "metadata": {
    "collapsed": false
   },
   "outputs": [
    {
     "data": {
      "text/plain": [
       "array(['Austria', 'Czech_Republic', 'Greece', 'Ireland', 'Italy',\n",
       "       'Lithuania', 'Poland', 'Switzerland'], dtype=object)"
      ]
     },
     "execution_count": 20,
     "metadata": {},
     "output_type": "execute_result"
    }
   ],
   "source": [
    "Inestability_filter.country.unique()"
   ]
  },
  {
   "cell_type": "code",
   "execution_count": 21,
   "metadata": {
    "collapsed": false
   },
   "outputs": [
    {
     "data": {
      "text/plain": [
       "<matplotlib.axes._subplots.AxesSubplot at 0x1159d0320>"
      ]
     },
     "execution_count": 21,
     "metadata": {},
     "output_type": "execute_result"
    },
    {
     "data": {
      "image/png": "[encoded data removed]",
      "text/plain": [
       "<matplotlib.figure.Figure at 0x1153cc0b8>"
      ]
     },
     "metadata": {},
     "output_type": "display_data"
    }
   ],
   "source": [
    "awita = pd.crosstab(Inestability_filter.country, Inestability_filter.wing)\n",
    "\n",
    "awita.plot(kind = 'box',title='Inestability Filter, wing distribution per country')"
   ]
  },
  {
   "cell_type": "code",
   "execution_count": 22,
   "metadata": {
    "collapsed": false
   },
   "outputs": [
    {
     "data": {
      "text/plain": [
       "28.57142857142857"
      ]
     },
     "execution_count": 22,
     "metadata": {},
     "output_type": "execute_result"
    }
   ],
   "source": [
    "# Percentage of Inestability Parties regardint the total\n",
    "# No es muy preocupante, redondea el 7% del total\n",
    "Percentage_number_inestability_parties = (number_inestability_parties/28)*100\n",
    "Percentage_number_inestability_parties"
   ]
  },
  {
   "cell_type": "markdown",
   "metadata": {},
   "source": [
    "# Que pasa si analizamos solo a partir de 2008 ?"
   ]
  },
  {
   "cell_type": "code",
   "execution_count": 23,
   "metadata": {
    "collapsed": false
   },
   "outputs": [
    {
     "data": {
      "text/plain": [
       "6.222222222222222"
      ]
     },
     "execution_count": 23,
     "metadata": {},
     "output_type": "execute_result"
    }
   ],
   "source": [
    "# vamos a centrarnos en la distribucion para los años 2008 y posteriores\n",
    "\n",
    "post_2008_data = data_pol[(data_pol.year >= 2008)]\n",
    "\n",
    "post_2008_inestability_filter = post_2008_data[(post_2008_data.populism == 1) & (post_2008_data.senator_distribution >= 0.20)] \n",
    "\n",
    "number_post_2008_inestability_parties = post_2008_inestability_filter.party.nunique() # igual que el otro pero con una n\n",
    "\n",
    "total_post_2008_parties = post_2008_data.party.nunique() # igual que el otro pero con una n\n",
    "\n",
    "Percentage_post_2008_inestability_parties = (number_post_2008_inestability_parties/total_post_2008_parties)*100\n",
    "\n",
    "Percentage_post_2008_inestability_parties\n",
    "\n",
    "# El porcentaje es menor, WTF??? No mencionar esto a menos que se te ocurra algo :D\n",
    "\n",
    "\n",
    "\n"
   ]
  },
  {
   "cell_type": "markdown",
   "metadata": {},
   "source": [
    "# Radical_Filter = New political parties and populist"
   ]
  },
  {
   "cell_type": "code",
   "execution_count": 38,
   "metadata": {
    "collapsed": false,
    "scrolled": true
   },
   "outputs": [],
   "source": [
    "# RADICAL_FILTER = Partidos politicos nuevos (1), populistas(1) con exito en las elecciones (>10% parliament)\n",
    "# De este modo sabemos que paises son los más \"radicales\"\n",
    "\n",
    "radical_filter= data_pol[(data_pol.populism == 1) & \n",
    "                      (data_pol.new_party == 1) & \n",
    "                      (data_pol.senator_distribution >= 0.10)] \n"
   ]
  },
  {
   "cell_type": "code",
   "execution_count": 39,
   "metadata": {
    "collapsed": false
   },
   "outputs": [
    {
     "data": {
      "text/plain": [
       "array(['Alliance_Future_Austria', 'Ataka_(ATAKA)', 'ANO_2011',\n",
       "       'Movement_for_a_Better_Hungary', 'Movimento_5_Stelle_(MCS)',\n",
       "       'Order_and_Justice', 'Labour_Party', 'Freedom_Party',\n",
       "       'Peoples_Party__Dan_Diaconescu', 'Freedom_and_Solidarity',\n",
       "       'United_We_Can_(PODEMOS)', 'Podemos'], dtype=object)"
      ]
     },
     "execution_count": 39,
     "metadata": {},
     "output_type": "execute_result"
    }
   ],
   "source": [
    "# Party Names:\n",
    "radical_filter.party.unique()"
   ]
  },
  {
   "cell_type": "code",
   "execution_count": 40,
   "metadata": {
    "collapsed": false
   },
   "outputs": [
    {
     "data": {
      "text/plain": [
       "12"
      ]
     },
     "execution_count": 40,
     "metadata": {},
     "output_type": "execute_result"
    }
   ],
   "source": [
    "# Numero de partidos de este tipo:\n",
    "number_radical_parties = radical_filter.party.nunique() # igual que el otro pero con una n\n",
    "number_radical_parties\n"
   ]
  },
  {
   "cell_type": "code",
   "execution_count": 41,
   "metadata": {
    "collapsed": false
   },
   "outputs": [
    {
     "data": {
      "text/plain": [
       "5.240174672489083"
      ]
     },
     "execution_count": 41,
     "metadata": {},
     "output_type": "execute_result"
    }
   ],
   "source": [
    "# Percentage of this parties between all parties\n",
    "\n",
    "Percentage_number_radical_parties = (12/229)*100\n",
    "Percentage_number_radical_parties\n",
    "\n",
    "# usamos los años como index (como eje)\n",
    "\n"
   ]
  },
  {
   "cell_type": "markdown",
   "metadata": {
    "collapsed": true
   },
   "source": [
    "# Agregamos las variables para reducir su dimension (dimension reduction) para operar y crear la matriz de distancias/covarianzas\n"
   ]
  },
  {
   "cell_type": "code",
   "execution_count": 28,
   "metadata": {
    "collapsed": true
   },
   "outputs": [],
   "source": [
    "# Multi filter criteria !! (agregar varias variables para seleccionar valores comunes)\n",
    "\n"
   ]
  },
  {
   "cell_type": "code",
   "execution_count": 29,
   "metadata": {
    "collapsed": true
   },
   "outputs": [],
   "source": [
    "# utilizamos \"groupBy\" y .agg para operar\n"
   ]
  },
  {
   "cell_type": "markdown",
   "metadata": {
    "collapsed": true
   },
   "source": [
    "# Hierarchical clustering\n"
   ]
  },
  {
   "cell_type": "code",
   "execution_count": 30,
   "metadata": {
    "collapsed": false
   },
   "outputs": [
    {
     "data": {
      "text/plain": [
       "array(['Austria', 'Belgium', 'Bulgaria', 'Croatia', 'Czech_Republic',\n",
       "       'Denmark', 'Estonia', 'Finland', 'France', 'Germany', 'Greece',\n",
       "       'Hungary', 'Ireland', 'Italy', 'Latvia', 'Lithuania', 'Luxembourg',\n",
       "       'Netherland', 'Poland', 'Portugal', 'Rumania', 'Slovakia',\n",
       "       'Slovenia', 'Spain', 'Sweden', 'Switzerland', 'United_Kingdom',\n",
       "       'Norway'], dtype=object)"
      ]
     },
     "execution_count": 30,
     "metadata": {},
     "output_type": "execute_result"
    }
   ],
   "source": [
    "papaso = data_pol.country.unique()\n",
    "papaso"
   ]
  },
  {
   "cell_type": "markdown",
   "metadata": {},
   "source": [
    "Let's do the clustering and plot the result\n"
   ]
  },
  {
   "cell_type": "code",
   "execution_count": 42,
   "metadata": {
    "collapsed": false
   },
   "outputs": [
    {
     "data": {
      "image/png": "[encoded data removed]",
      "text/plain": [
       "<matplotlib.figure.Figure at 0x112f4f438>"
      ]
     },
     "metadata": {},
     "output_type": "display_data"
    },
    {
     "data": {
      "image/png": "[encoded data removed]",
      "text/plain": [
       "<matplotlib.figure.Figure at 0x11706c710>"
      ]
     },
     "metadata": {},
     "output_type": "display_data"
    }
   ],
   "source": [
    "## FIRST TRY, the second is the GOOD ONE!\n",
    "\n",
    "import scipy.cluster.hierarchy as hac\n",
    "import matplotlib.pyplot as plt\n",
    "\n",
    "#Series\n",
    "\n",
    "# Como cada punto es un año, no puedo calcular que pais es mas populista\n",
    "# PERO, lo que puedo hacer es calcular la media de parlamentarios populistas por año (codigo de debajo)\n",
    "# Y sobre estas medias, hacer una matrix de distancias :D\n",
    "\n",
    "\n",
    "\n",
    "Austria = data_pol[(data_pol.country == 'Austria') & (data_pol.year >= 1990) & (data_pol.populism == 1)] \n",
    "x1 = Austria.senator_distribution.mean()\n",
    "\n",
    "\n",
    "Belgium = data_pol[(data_pol.country == 'Belgium') & (data_pol.year >= 1990) & (data_pol.populism == 1)] \n",
    "x2 = Belgium.senator_distribution.mean()\n",
    "\n",
    "\n",
    "Bulgaria = data_pol[(data_pol.country == 'Bulgaria') & (data_pol.year >= 1990) & (data_pol.populism == 1)] \n",
    "x3 = Bulgaria.senator_distribution.mean()\n",
    "\n",
    "\n",
    "Croatia = data_pol[(data_pol.country == 'Croatia') & (data_pol.year >= 1990) & (data_pol.populism == 1)] \n",
    "x4 = Croatia.senator_distribution.mean()\n",
    "\n",
    "\n",
    "Czech_Republic = data_pol[(data_pol.country == 'Czech_Republic') & (data_pol.year >= 1990) & (data_pol.populism == 1)] \n",
    "x5 = Czech_Republic.senator_distribution.mean()\n",
    "\n",
    "\n",
    "Denmark = data_pol[(data_pol.country == 'Denmark') & (data_pol.year >= 1990) & (data_pol.populism == 1)] \n",
    "x6 = Denmark.senator_distribution.mean()\n",
    "\n",
    "\n",
    "Estonia = data_pol[(data_pol.country == 'Estonia') & (data_pol.year >= 1990) & (data_pol.populism == 1)] \n",
    "x7 = Estonia.senator_distribution.mean()\n",
    "\n",
    "\n",
    "Finland = data_pol[(data_pol.country == 'Finland') & (data_pol.year >= 1990) & (data_pol.populism == 1)] \n",
    "x8 = Finland.senator_distribution.mean()\n",
    "\n",
    "\n",
    "France = data_pol[(data_pol.country == 'France') & (data_pol.year >= 1990) & (data_pol.populism == 1)] \n",
    "x9 = France.senator_distribution.mean()\n",
    "\n",
    "\n",
    "Germany = data_pol[(data_pol.country == 'Germany') & (data_pol.year >= 1990) & (data_pol.populism == 1)] \n",
    "x10 = Germany.senator_distribution.mean()\n",
    "\n",
    "\n",
    "Greece = data_pol[(data_pol.country == 'Greece') & (data_pol.year >= 1990) & (data_pol.populism == 1)] \n",
    "x11 = Greece.senator_distribution.mean()\n",
    "\n",
    "\n",
    "Hungary = data_pol[(data_pol.country == 'Hungary') & (data_pol.year >= 1990) & (data_pol.populism == 1)] \n",
    "x12 = Hungary.senator_distribution.mean()\n",
    "\n",
    "\n",
    "Ireland = data_pol[(data_pol.country == 'Ireland') & (data_pol.year >= 1990) & (data_pol.populism == 1)] \n",
    "x13 = Ireland.senator_distribution.mean()\n",
    "\n",
    "\n",
    "Italy = data_pol[(data_pol.country == 'Italy') & (data_pol.year >= 1990) & (data_pol.populism == 1)] \n",
    "x14 = Italy.senator_distribution.mean()\n",
    "\n",
    "\n",
    "Latvia = data_pol[(data_pol.country == 'Latvia') & (data_pol.year >= 1990) & (data_pol.populism == 1)] \n",
    "x15 = Latvia.senator_distribution.mean()\n",
    "\n",
    "Lithuania = data_pol[(data_pol.country == 'Lithuania') & (data_pol.year >= 1990) & (data_pol.populism == 1)] \n",
    "x16 = Lithuania.senator_distribution.mean()\n",
    "\n",
    "Luxembourg = data_pol[(data_pol.country == 'Luxembourg') & (data_pol.year >= 1990) & (data_pol.populism == 1)] \n",
    "x17 = Luxembourg.senator_distribution.mean()\n",
    "\n",
    "Netherland = data_pol[(data_pol.country == 'Netherland') & (data_pol.year >= 1990) & (data_pol.populism == 1)] \n",
    "x18 = Netherland.senator_distribution.mean()\n",
    "\n",
    "Poland = data_pol[(data_pol.country == 'Poland') & (data_pol.year >= 1990) & (data_pol.populism == 1)] \n",
    "x19 = Poland.senator_distribution.mean()\n",
    "\n",
    "Portugal = data_pol[(data_pol.country == 'Portugal') & (data_pol.year >= 1990) & (data_pol.populism == 1)] \n",
    "x20 = Portugal.senator_distribution.mean()\n",
    "\n",
    "Rumania = data_pol[(data_pol.country == 'Rumania') & (data_pol.year >= 1990) & (data_pol.populism == 1)] \n",
    "x21 = Rumania.senator_distribution.mean()\n",
    "\n",
    "Slovakia = data_pol[(data_pol.country == 'Slovakia') & (data_pol.year >= 1990) & (data_pol.populism == 1)] \n",
    "x22 = Slovakia.senator_distribution.mean()\n",
    "\n",
    "Slovenia = data_pol[(data_pol.country == 'Slovenia') & (data_pol.year >= 1990) & (data_pol.populism == 1)] \n",
    "x23 = Slovenia.senator_distribution.mean()\n",
    "\n",
    "Spain = data_pol[(data_pol.country == 'Spain') & (data_pol.year >= 1990) & (data_pol.populism == 1)] \n",
    "x24 = Spain.senator_distribution.mean()\n",
    "\n",
    "Sweden = data_pol[(data_pol.country == 'Sweden') & (data_pol.year >= 1990) & (data_pol.populism == 1)] \n",
    "x25 = Sweden.senator_distribution.mean()\n",
    "\n",
    "Switzerland = data_pol[(data_pol.country == 'Switzerland') & (data_pol.year >= 1990) & (data_pol.populism == 1)] \n",
    "x26 = Switzerland.senator_distribution.mean()\n",
    "\n",
    "United_Kingdom = data_pol[(data_pol.country == 'United_Kingdom') & (data_pol.year >= 1990) & (data_pol.populism == 1)] \n",
    "x27 = United_Kingdom.senator_distribution.mean()\n",
    "\n",
    "Norway = data_pol[(data_pol.country == 'Norway') & (data_pol.year >= 1990) & (data_pol.populism == 1)] \n",
    "x28 = Norway.senator_distribution.mean()\n",
    "\n",
    "# first we need the covariance matrix or distance matrix\n",
    "#papaso = \"usar cov matrix aqui\"\n",
    "paises_distances = [x1,x2,x3,x4,x5,x6,x7,x8,x9,x10,x11,x12,x13,x14,x15,x16,x17,x18,x19,x20,x21,x22,x23,x24,x25,x26,x27,x28]\n",
    "\n",
    "# Dendogram\n",
    "Z = hac.linkage(paises_distances, 'single', 'correlation')\n",
    "\n",
    "plt.figure(figsize=(10, 5))\n",
    "plt.title('Political Parties Hierarchical Clustering Dendrogram')\n",
    "plt.ylabel('distance')\n",
    "hac.dendrogram(\n",
    "    Z,\n",
    "    leaf_font_size=10.,  # font size for the x axis labels\n",
    "    labels = papaso # Vector with names\n",
    ")\n",
    "plt.show()\n",
    "\n",
    "#Scatter plot\n",
    "plt.scatter(paises_distances, paises_distances, alpha=0.5)\n",
    "plt.xlabel('Populist representation % per year (mean)')\n",
    "plt.show()\n",
    "\n",
    "# cluster line\n",
    "#cluster = hac.linkage(papaso, 'single', 'correlation')\n",
    "\n"
   ]
  },
  {
   "cell_type": "code",
   "execution_count": 32,
   "metadata": {
    "collapsed": false
   },
   "outputs": [
    {
     "data": {
      "text/plain": [
       "[0.05437500000000001,\n",
       " 0.012571428571428574,\n",
       " 0.015925925925925927,\n",
       " 0.006666666666666667,\n",
       " 0.11281249999999998,\n",
       " 0.06687500000000002,\n",
       " nan,\n",
       " 0.07142857142857142,\n",
       " 0.016666666666666666,\n",
       " 0.03071428571428572,\n",
       " 0.0438888888888889,\n",
       " 0.025714285714285714,\n",
       " 0.18999999999999997,\n",
       " 0.11708333333333332,\n",
       " 0.043333333333333335,\n",
       " 0.03406250000000001,\n",
       " 0.05200000000000001,\n",
       " 0.03357142857142857,\n",
       " 0.10875000000000001,\n",
       " 0.047500000000000014,\n",
       " 0.015714285714285715,\n",
       " 0.029722222222222223,\n",
       " 0.00875,\n",
       " 0.02125000000000001,\n",
       " 0.0492857142857143,\n",
       " 0.06607142857142859,\n",
       " 0.004583333333333333,\n",
       " 0.11000000000000003]"
      ]
     },
     "execution_count": 32,
     "metadata": {},
     "output_type": "execute_result"
    }
   ],
   "source": [
    "paises_distances = [x1,x2,x3,x4,x5,x6,x7,x8,x9,x10,x11,x12,x13,x14,x15,x16,x17,x18,x19,x20,x21,x22,x23,x24,x25,x26,x27,x28]\n",
    "paises_distances\n"
   ]
  },
  {
   "cell_type": "code",
   "execution_count": 43,
   "metadata": {
    "collapsed": false,
    "scrolled": true
   },
   "outputs": [
    {
     "data": {
      "image/png": "[encoded data removed]",
      "text/plain": [
       "<matplotlib.figure.Figure at 0x116de4470>"
      ]
     },
     "metadata": {},
     "output_type": "display_data"
    },
    {
     "data": {
      "image/png": "[encoded data removed]",
      "text/plain": [
       "<matplotlib.figure.Figure at 0x11705bb70>"
      ]
     },
     "metadata": {},
     "output_type": "display_data"
    }
   ],
   "source": [
    "# THIS ONE IS THE REAL ONE, the good one!!\n",
    "\n",
    "import numpy as np\n",
    "import matplotlib.pyplot as plt\n",
    "from scipy.spatial.distance import pdist, squareform\n",
    "from scipy.cluster.hierarchy import linkage, dendrogram\n",
    "\n",
    "\n",
    "Austria = data_pol[(data_pol.country == 'Austria') & (data_pol.year >= 1990) & (data_pol.populism == 1)] \n",
    "x1a = Austria.senator_distribution.mean()\n",
    "x1b = Austria.senator_distribution.max()\n",
    "\n",
    "Belgium = data_pol[(data_pol.country == 'Belgium') & (data_pol.year >= 1990) & (data_pol.populism == 1)] \n",
    "x2a = Belgium.senator_distribution.mean()\n",
    "x2b = Belgium.senator_distribution.max()\n",
    "\n",
    "Bulgaria = data_pol[(data_pol.country == 'Bulgaria') & (data_pol.year >= 1990) & (data_pol.populism == 1)] \n",
    "x3a = Bulgaria.senator_distribution.mean()\n",
    "x3b = Bulgaria.senator_distribution.max()\n",
    "\n",
    "Croatia = data_pol[(data_pol.country == 'Croatia') & (data_pol.year >= 1990) & (data_pol.populism == 1)] \n",
    "x4a = Croatia.senator_distribution.mean()\n",
    "x4b = Croatia.senator_distribution.max()\n",
    "\n",
    "Czech_Republic = data_pol[(data_pol.country == 'Czech_Republic') & (data_pol.year >= 1990) & (data_pol.populism == 1)] \n",
    "x5a = Czech_Republic.senator_distribution.mean()\n",
    "x5b = Czech_Republic.senator_distribution.max()\n",
    "\n",
    "Denmark = data_pol[(data_pol.country == 'Denmark') & (data_pol.year >= 1990) & (data_pol.populism == 1)] \n",
    "x6a = Denmark.senator_distribution.mean()\n",
    "x6b = Denmark.senator_distribution.max()\n",
    "\n",
    "Estonia = data_pol[(data_pol.country == 'Estonia') & (data_pol.year >= 1990) & (data_pol.populism == 1)] \n",
    "x7a = Estonia.senator_distribution.mean()\n",
    "x7b = Estonia.senator_distribution.max()\n",
    "\n",
    "Finland = data_pol[(data_pol.country == 'Finland') & (data_pol.year >= 1990) & (data_pol.populism == 1)] \n",
    "x8a = Finland.senator_distribution.mean()\n",
    "x8b = Finland.senator_distribution.max()\n",
    "\n",
    "France = data_pol[(data_pol.country == 'France') & (data_pol.year >= 1990) & (data_pol.populism == 1)] \n",
    "x9a = France.senator_distribution.mean()\n",
    "x9b = France.senator_distribution.max()\n",
    "\n",
    "Germany = data_pol[(data_pol.country == 'Germany') & (data_pol.year >= 1990) & (data_pol.populism == 1)] \n",
    "x10a = Germany.senator_distribution.mean()\n",
    "x10b = Germany.senator_distribution.max()\n",
    "\n",
    "Greece = data_pol[(data_pol.country == 'Greece') & (data_pol.year >= 1990) & (data_pol.populism == 1)] \n",
    "x11a = Greece.senator_distribution.mean()\n",
    "x11b = Greece.senator_distribution.max()\n",
    "\n",
    "Hungary = data_pol[(data_pol.country == 'Hungary') & (data_pol.year >= 1990) & (data_pol.populism == 1)] \n",
    "x12a = Hungary.senator_distribution.mean()\n",
    "x12b = Hungary.senator_distribution.max()\n",
    "\n",
    "Ireland = data_pol[(data_pol.country == 'Ireland') & (data_pol.year >= 1990) & (data_pol.populism == 1)] \n",
    "x13a = Ireland.senator_distribution.mean()\n",
    "x13b = Ireland.senator_distribution.max()\n",
    "\n",
    "Italy = data_pol[(data_pol.country == 'Italy') & (data_pol.year >= 1990) & (data_pol.populism == 1)] \n",
    "x14a = Italy.senator_distribution.mean()\n",
    "x14b = Italy.senator_distribution.max()\n",
    "\n",
    "Latvia = data_pol[(data_pol.country == 'Latvia') & (data_pol.year >= 1990) & (data_pol.populism == 1)] \n",
    "x15a = Latvia.senator_distribution.mean()\n",
    "x15b = Latvia.senator_distribution.max()\n",
    "\n",
    "Lithuania = data_pol[(data_pol.country == 'Lithuania') & (data_pol.year >= 1990) & (data_pol.populism == 1)] \n",
    "x16a = Lithuania.senator_distribution.mean()\n",
    "x16b = Lithuania.senator_distribution.max()\n",
    "\n",
    "Luxembourg = data_pol[(data_pol.country == 'Luxembourg') & (data_pol.year >= 1990) & (data_pol.populism == 1)] \n",
    "x17a = Luxembourg.senator_distribution.mean()\n",
    "x17b = Luxembourg.senator_distribution.max()\n",
    "\n",
    "Netherland = data_pol[(data_pol.country == 'Netherland') & (data_pol.year >= 1990) & (data_pol.populism == 1)] \n",
    "x18a = Netherland.senator_distribution.mean()\n",
    "x18b = Netherland.senator_distribution.max()\n",
    "\n",
    "Poland = data_pol[(data_pol.country == 'Poland') & (data_pol.year >= 1990) & (data_pol.populism == 1)] \n",
    "x19a = Poland.senator_distribution.mean()\n",
    "x19b = Poland.senator_distribution.max()\n",
    "\n",
    "Portugal = data_pol[(data_pol.country == 'Portugal') & (data_pol.year >= 1990) & (data_pol.populism == 1)] \n",
    "x20a = Portugal.senator_distribution.mean()\n",
    "x20b = Portugal.senator_distribution.max()\n",
    "\n",
    "Rumania = data_pol[(data_pol.country == 'Rumania') & (data_pol.year >= 1990) & (data_pol.populism == 1)] \n",
    "x21a = Rumania.senator_distribution.mean()\n",
    "x21b = Rumania.senator_distribution.max()\n",
    "\n",
    "Slovakia = data_pol[(data_pol.country == 'Slovakia') & (data_pol.year >= 1990) & (data_pol.populism == 1)] \n",
    "x22a = Slovakia.senator_distribution.mean()\n",
    "x22b = Slovakia.senator_distribution.max()\n",
    "\n",
    "Slovenia = data_pol[(data_pol.country == 'Slovenia') & (data_pol.year >= 1990) & (data_pol.populism == 1)] \n",
    "x23a = Slovenia.senator_distribution.mean()\n",
    "x23b = Slovenia.senator_distribution.max()\n",
    "\n",
    "Spain = data_pol[(data_pol.country == 'Spain') & (data_pol.year >= 1990) & (data_pol.populism == 1)] \n",
    "x24a = Spain.senator_distribution.mean()\n",
    "x24b = Spain.senator_distribution.max()\n",
    "\n",
    "Sweden = data_pol[(data_pol.country == 'Sweden') & (data_pol.year >= 1990) & (data_pol.populism == 1)] \n",
    "x25a = Sweden.senator_distribution.mean()\n",
    "x25b = Sweden.senator_distribution.max()\n",
    "\n",
    "Switzerland = data_pol[(data_pol.country == 'Switzerland') & (data_pol.year >= 1990) & (data_pol.populism == 1)] \n",
    "x26a = Switzerland.senator_distribution.mean()\n",
    "x26b = Switzerland.senator_distribution.max()\n",
    "\n",
    "United_Kingdom = data_pol[(data_pol.country == 'United_Kingdom') & (data_pol.year >= 1990) & (data_pol.populism == 1)] \n",
    "x27a = United_Kingdom.senator_distribution.mean()\n",
    "x27b = United_Kingdom.senator_distribution.max()\n",
    "\n",
    "Norway = data_pol[(data_pol.country == 'Norway') & (data_pol.year >= 1990) & (data_pol.populism == 1)] \n",
    "x28a = Norway.senator_distribution.mean()\n",
    "x28b = Norway.senator_distribution.max()\n",
    "\n",
    "mean_max_countries = [[x1a, x1b],\n",
    "     [x2a, x2b],\n",
    "     [x3a, x3b],\n",
    "     [x4a, x4b],\n",
    "     [x5a, x5b],\n",
    "     [x6a, x6b],\n",
    "     [0, 0],\n",
    "     [x8a, x8b],\n",
    "     [x9a, x9b],\n",
    "     [x10a, x10b],\n",
    "     [x11a, x11b],\n",
    "     [x12a, x12b],\n",
    "     [x13a, x13b],\n",
    "     [x14a, x14b],\n",
    "     [x15a, x15b],\n",
    "     [x16a, x16b],\n",
    "     [x17a, x17b],\n",
    "     [x18a, x18b],\n",
    "     [x19a, x19b],\n",
    "     [x20a, x20b],\n",
    "     [x21a, x21b],\n",
    "     [x22a, x22b],\n",
    "     [x23a, x23b],\n",
    "     [x24a, x24b],\n",
    "     [x25a, x25b],\n",
    "     [x26a, x26b],\n",
    "     [x27a, x27b],\n",
    "     [x28a, x28b],\n",
    "     ]\n",
    "\n",
    "type(mean_max_countries)\n",
    "# list --> array\n",
    "mean_max_countries_array = np.asarray(mean_max_countries)\n",
    "\n",
    "# Plot 2d scatter map\n",
    "plt.scatter(mean_max_countries_array[:,0], mean_max_countries_array[:,1], alpha=0.5)\n",
    "plt.xlabel('average')\n",
    "plt.ylabel('Max')\n",
    "plt.show()\n",
    "\n",
    "# Hierarchical clustering algorithm\n",
    "Z = linkage(mean_max_countries_array, 'ward')\n",
    "\n",
    "plt.figure(figsize=(15, 5))\n",
    "plt.title('Hierarchical Clustering Dendrogram')\n",
    "plt.ylabel('distance')\n",
    "dendrogram(\n",
    "    Z,\n",
    "    leaf_rotation=90.,  # rotates the x axis labels\n",
    "    leaf_font_size=10.,  # font size for the x axis labels\n",
    "    labels = papaso # Vector with names\n",
    ")\n",
    "plt.show()"
   ]
  },
  {
   "cell_type": "code",
   "execution_count": 48,
   "metadata": {
    "collapsed": false
   },
   "outputs": [],
   "source": [
    "# FINAL RESULT IN THE CELL ABOVE!!! (check charts, there are 2, a scatter plot and a hierarchical dendrogram)"
   ]
  },
  {
   "cell_type": "code",
   "execution_count": null,
   "metadata": {
    "collapsed": true
   },
   "outputs": [],
   "source": []
  }
 ],
 "metadata": {
  "anaconda-cloud": {},
  "kernelspec": {
   "display_name": "Python [Root]",
   "language": "python",
   "name": "Python [Root]"
  },
  "language_info": {
   "codemirror_mode": {
    "name": "ipython",
    "version": 3
   },
   "file_extension": ".py",
   "mimetype": "text/x-python",
   "name": "python",
   "nbconvert_exporter": "python",
   "pygments_lexer": "ipython3",
   "version": "3.5.1"
  }
 },
 "nbformat": 4,
 "nbformat_minor": 0
}
